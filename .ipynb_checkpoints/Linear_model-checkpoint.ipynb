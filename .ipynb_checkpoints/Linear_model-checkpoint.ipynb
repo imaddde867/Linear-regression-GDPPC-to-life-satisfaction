{
 "cells": [
  {
   "cell_type": "code",
   "execution_count": null,
   "id": "a867960d-9a75-4e39-8857-47af311e998c",
   "metadata": {},
   "outputs": [],
   "source": [
    "Importing libraires :"
   ]
  },
  {
   "cell_type": "code",
   "execution_count": null,
   "id": "8b12d22f-4b74-4019-a8ab-41a4635c9718",
   "metadata": {},
   "outputs": [],
   "source": [
    "import matplotlib.pylot as plt \n",
    "import numpy as np \n",
    "import pandas as pd\n",
    "from sklearn.linear_model import Linear regression "
   ]
  }
 ],
 "metadata": {
  "kernelspec": {
   "display_name": "Python [conda env:base] *",
   "language": "python",
   "name": "conda-base-py"
  },
  "language_info": {
   "codemirror_mode": {
    "name": "ipython",
    "version": 3
   },
   "file_extension": ".py",
   "mimetype": "text/x-python",
   "name": "python",
   "nbconvert_exporter": "python",
   "pygments_lexer": "ipython3",
   "version": "3.12.7"
  }
 },
 "nbformat": 4,
 "nbformat_minor": 5
}
