{
 "cells": [
  {
   "cell_type": "markdown",
   "id": "8b9cd288-4bf4-4877-a5b2-4297532fe61e",
   "metadata": {},
   "source": [
    "Importing libraires :"
   ]
  },
  {
   "cell_type": "code",
   "execution_count": 12,
   "id": "8b12d22f-4b74-4019-a8ab-41a4635c9718",
   "metadata": {},
   "outputs": [],
   "source": [
    "import matplotlib.pyplot as plt \n",
    "import numpy as np \n",
    "import pandas as pd\n",
    "from sklearn.linear_model import LinearRegression "
   ]
  },
  {
   "cell_type": "markdown",
   "id": "bc722c78-8a98-449e-a0be-41b196d859f0",
   "metadata": {},
   "source": [
    "Preparing the data :"
   ]
  },
  {
   "cell_type": "code",
   "execution_count": null,
   "id": "5bf28168-a051-4bf0-9d85-49d86d59e172",
   "metadata": {},
   "outputs": [],
   "source": [
    "lifesat = pd.read_csv(\"lifesat.csv\")\n",
    "lifesat.header()"
   ]
  }
 ],
 "metadata": {
  "kernelspec": {
   "display_name": "Python [conda env:base] *",
   "language": "python",
   "name": "conda-base-py"
  },
  "language_info": {
   "codemirror_mode": {
    "name": "ipython",
    "version": 3
   },
   "file_extension": ".py",
   "mimetype": "text/x-python",
   "name": "python",
   "nbconvert_exporter": "python",
   "pygments_lexer": "ipython3",
   "version": "3.12.7"
  }
 },
 "nbformat": 4,
 "nbformat_minor": 5
}
